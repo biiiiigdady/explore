{
 "cells": [
  {
   "cell_type": "code",
   "execution_count": null,
   "metadata": {},
   "outputs": [],
   "source": [
    "import torch\n",
    "from torch import autograd\n",
    "\n",
    "x = torch.tensor([1,2])\n",
    "print(x.dtype)"
   ]
  },
  {
   "cell_type": "code",
   "execution_count": null,
   "metadata": {},
   "outputs": [],
   "source": [
    "import torch\n",
    "from torch import autograd\n",
    "\n",
    "x = torch.tensor(1., requires_grad=False)\n",
    "w = torch.tensor(2., requires_grad=True)\n",
    "b = torch.tensor(3., requires_grad=True)\n",
    "y = w*x + b\n",
    "dy_dw, dy_dd = autograd.grad(y, [w, b])\n",
    "print(dy_dw, dy_dd)"
   ]
  },
  {
   "cell_type": "code",
   "execution_count": null,
   "metadata": {},
   "outputs": [],
   "source": [
    "import torch\n",
    "\n",
    "y = torch.zeros([3, 2])\n",
    "print(y)\n",
    "\n",
    "x = torch.ones([3,3])\n",
    "print(x)\n",
    "\n",
    "ay = torch.ones_like(y)\n",
    "print(ay)\n",
    "\n",
    "ax = torch.zeros_like(x)\n",
    "print(ax)\n",
    "\n",
    "f = torch.full([2,2], 100)\n",
    "print(f)\n"
   ]
  },
  {
   "cell_type": "code",
   "execution_count": null,
   "metadata": {},
   "outputs": [],
   "source": [
    "import torch\n",
    "\n",
    "x = torch.randn([10])\n",
    "print(x)\n",
    "\n",
    "x = torch.empty([2, 3])\n",
    "print(x)\n",
    "x.normal_(mean=1, std=0.5)\n",
    "print(x)\n",
    "\n",
    "y = torch.rand([10])\n",
    "print(y)\n",
    "\n",
    "y = torch.empty([10])\n",
    "print(y)\n",
    "y.uniform_(0, 10)\n",
    "print(y)\n",
    "\n"
   ]
  },
  {
   "cell_type": "code",
   "execution_count": null,
   "metadata": {},
   "outputs": [],
   "source": [
    "import torch\n",
    "\n",
    "# torch.arange(10)\n",
    "torch.randn(4,2)"
   ]
  },
  {
   "cell_type": "code",
   "execution_count": null,
   "metadata": {},
   "outputs": [],
   "source": [
    "import torch\n",
    "from torch import nn\n",
    "x = torch.randn(4, 3, 32, 32)\n",
    "layer = nn.Conv2d(3, 16, kernel_size=3)\n",
    "out = layer(x)\n",
    "print(out.shape)\n",
    "print(layer.weight.shape)"
   ]
  },
  {
   "cell_type": "code",
   "execution_count": null,
   "metadata": {},
   "outputs": [],
   "source": [
    "import torch\n",
    "x = torch.arange(96)\n",
    "x = torch.reshape(x, [2, 3, 4, 4])\n",
    "b = torch.tensor([1, 2, 3])\n",
    "print(b.shape)\n",
    "b = torch.unsqueeze(b, dim=0)\n",
    "print(b.shape)\n",
    "b = b.repeat(2, 1)\n",
    "print(b)\n",
    "print(b.shape)"
   ]
  },
  {
   "cell_type": "code",
   "execution_count": null,
   "metadata": {},
   "outputs": [],
   "source": [
    "import torch\n",
    "x = torch.randn(2, 4)\n",
    "w = torch.randn(4, 3)\n",
    "b = torch.randn(3)\n",
    "# broadcasting\n",
    "y = x@w +b\n",
    "\n",
    "ori = torch.tensor([1, 2, 3])\n",
    "ori = ori.reshape([3,1])\n",
    "ori.shape\n",
    "\n",
    "tar = torch.ones([2, 2, 3, 3])\n",
    "tar *=2\n",
    "# broadcasting\n",
    "tar + ori"
   ]
  },
  {
   "cell_type": "code",
   "execution_count": null,
   "metadata": {},
   "outputs": [],
   "source": [
    "import torch\n",
    "a = torch.arange(1,5)\n",
    "b = torch.tensor(2)\n",
    "print(a)\n",
    "print(b)\n",
    "print(a/b)\n",
    "print(a//b)\n",
    "print(a%b)"
   ]
  }
 ],
 "metadata": {
  "kernelspec": {
   "display_name": "Python 3.9.13 ('base')",
   "language": "python",
   "name": "python3"
  },
  "language_info": {
   "codemirror_mode": {
    "name": "ipython",
    "version": 3
   },
   "file_extension": ".py",
   "mimetype": "text/x-python",
   "name": "python",
   "nbconvert_exporter": "python",
   "pygments_lexer": "ipython3",
   "version": "3.9.13"
  },
  "orig_nbformat": 4,
  "vscode": {
   "interpreter": {
    "hash": "96cf1950afe01a6c0c8360de595268d48ba1f693334344619e5ca9b52584eaa3"
   }
  }
 },
 "nbformat": 4,
 "nbformat_minor": 2
}
